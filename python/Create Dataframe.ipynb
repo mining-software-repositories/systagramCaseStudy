{
 "cells": [
  {
   "cell_type": "code",
   "execution_count": 1,
   "metadata": {},
   "outputs": [
    {
     "name": "stdout",
     "output_type": "stream",
     "text": [
      "['systagram1.5.0', 'systagram1.5.1', 'systagram1.4.0', 'systagram1.4.1']\n"
     ]
    }
   ],
   "source": [
    "## Ler os diretorios de um diretorio\n",
    "import os\n",
    "import glob\n",
    "\n",
    "my_dirs_arcatchreports = os.listdir(\"../arcatchreports\")\n",
    "print(my_dirs_arcatchreports)"
   ]
  },
  {
   "cell_type": "code",
   "execution_count": 2,
   "metadata": {},
   "outputs": [],
   "source": [
    "## lista os arquivos .csv de um diretorio, nesse caso o diretorio arcatchreports\n",
    "def list_files_from_dir_arcatchreports(my_dir):\n",
    "    path = \"../arcatchreports/\" + my_dir + \"/*.csv\"\n",
    "    csv_files = []\n",
    "    for file in glob.glob(path):\n",
    "      csv_files.append(file)\n",
    "    return csv_files"
   ]
  },
  {
   "cell_type": "code",
   "execution_count": 3,
   "metadata": {},
   "outputs": [
    {
     "data": {
      "text/plain": [
       "['../arcatchreports/systagram1.4.0/systagram1.4.0-unit-compartment-mapping-matrix-2020-04-28-13-54-31.csv',\n",
       " '../arcatchreports/systagram1.4.0/systagram1.4.0-metric-suite-description-2020-04-28-13-54-31.csv',\n",
       " '../arcatchreports/systagram1.4.0/systagram1.4.0-degradation-matrix-2020-04-28-13-54-31.csv',\n",
       " '../arcatchreports/systagram1.4.0/systagram1.4.0-violation-matrix-2020-04-28-13-54-31.csv',\n",
       " '../arcatchreports/systagram1.4.0/systagram1.4.0-rule-violation-2020-04-28-13-54-31.csv',\n",
       " '../arcatchreports/systagram1.4.0/systagram1.4.0-basic-statistics-2020-04-28-13-54-31.csv',\n",
       " '../arcatchreports/systagram1.4.0/systagram1.4.0-degree-of-conformance-2020-04-28-13-54-31.csv',\n",
       " '../arcatchreports/systagram1.4.0/systagram1.4.0-compartment-description-2020-04-28-13-54-31.csv',\n",
       " '../arcatchreports/systagram1.4.0/systagram1.4.0-metrics-suite-2020-04-28-13-54-31.csv',\n",
       " '../arcatchreports/systagram1.4.0/systagram1.4.0-conformance-of-rules-2020-04-28-13-54-31.csv']"
      ]
     },
     "execution_count": 3,
     "metadata": {},
     "output_type": "execute_result"
    }
   ],
   "source": [
    "list_files_from_dir_arcatchreports('systagram1.4.0')"
   ]
  },
  {
   "cell_type": "code",
   "execution_count": 4,
   "metadata": {},
   "outputs": [],
   "source": [
    "## Cria um dicionario diretorio : lista_de_arquivos\n",
    "## chave : valor\n",
    "## 'systagram1.4.0' : csv_files\n",
    "## 'systagram1.4.1' : csv_files\n",
    "## 'systagram1.5.0' : csv_files\n",
    "## 'systagram1.5.1' : csv_files\n",
    "my_dict_from_arcatchreports = {}\n",
    "\n",
    "for each_dir in my_dirs_arcatchreports:\n",
    "    my_dict_from_arcatchreports[each_dir] = list_files_from_dir_arcatchreports(each_dir)"
   ]
  },
  {
   "cell_type": "code",
   "execution_count": 5,
   "metadata": {},
   "outputs": [
    {
     "data": {
      "text/plain": [
       "{'systagram1.5.0': ['../arcatchreports/systagram1.5.0/systagram1.5.0-conformance-of-rules-2020-04-28-13-54-36.csv',\n",
       "  '../arcatchreports/systagram1.5.0/systagram1.5.0-violation-matrix-2020-04-28-13-54-36.csv',\n",
       "  '../arcatchreports/systagram1.5.0/systagram1.5.0-unit-compartment-mapping-matrix-2020-04-28-13-54-36.csv',\n",
       "  '../arcatchreports/systagram1.5.0/systagram1.5.0-degree-of-conformance-2020-04-28-13-54-36.csv',\n",
       "  '../arcatchreports/systagram1.5.0/systagram1.5.0-degradation-matrix-2020-04-28-13-54-36.csv',\n",
       "  '../arcatchreports/systagram1.5.0/systagram1.5.0-compartment-description-2020-04-28-13-54-36.csv',\n",
       "  '../arcatchreports/systagram1.5.0/systagram1.5.0-basic-statistics-2020-04-28-13-54-36.csv',\n",
       "  '../arcatchreports/systagram1.5.0/systagram1.5.0-metric-suite-description-2020-04-28-13-54-36.csv',\n",
       "  '../arcatchreports/systagram1.5.0/systagram1.5.0-rule-violation-2020-04-28-13-54-36.csv',\n",
       "  '../arcatchreports/systagram1.5.0/systagram1.5.0-metrics-suite-2020-04-28-13-54-36.csv'],\n",
       " 'systagram1.5.1': ['../arcatchreports/systagram1.5.1/systagram1.5.1-rule-violation-2020-04-28-13-54-37.csv',\n",
       "  '../arcatchreports/systagram1.5.1/systagram1.5.1-basic-statistics-2020-04-28-13-54-37.csv',\n",
       "  '../arcatchreports/systagram1.5.1/systagram1.5.1-metric-suite-description-2020-04-28-13-54-37.csv',\n",
       "  '../arcatchreports/systagram1.5.1/systagram1.5.1-violation-matrix-2020-04-28-13-54-37.csv',\n",
       "  '../arcatchreports/systagram1.5.1/systagram1.5.1-degree-of-conformance-2020-04-28-13-54-37.csv',\n",
       "  '../arcatchreports/systagram1.5.1/systagram1.5.1-unit-compartment-mapping-matrix-2020-04-28-13-54-37.csv',\n",
       "  '../arcatchreports/systagram1.5.1/systagram1.5.1-compartment-description-2020-04-28-13-54-37.csv',\n",
       "  '../arcatchreports/systagram1.5.1/systagram1.5.1-degradation-matrix-2020-04-28-13-54-37.csv',\n",
       "  '../arcatchreports/systagram1.5.1/systagram1.5.1-conformance-of-rules-2020-04-28-13-54-37.csv',\n",
       "  '../arcatchreports/systagram1.5.1/systagram1.5.1-metrics-suite-2020-04-28-13-54-37.csv'],\n",
       " 'systagram1.4.0': ['../arcatchreports/systagram1.4.0/systagram1.4.0-unit-compartment-mapping-matrix-2020-04-28-13-54-31.csv',\n",
       "  '../arcatchreports/systagram1.4.0/systagram1.4.0-metric-suite-description-2020-04-28-13-54-31.csv',\n",
       "  '../arcatchreports/systagram1.4.0/systagram1.4.0-degradation-matrix-2020-04-28-13-54-31.csv',\n",
       "  '../arcatchreports/systagram1.4.0/systagram1.4.0-violation-matrix-2020-04-28-13-54-31.csv',\n",
       "  '../arcatchreports/systagram1.4.0/systagram1.4.0-rule-violation-2020-04-28-13-54-31.csv',\n",
       "  '../arcatchreports/systagram1.4.0/systagram1.4.0-basic-statistics-2020-04-28-13-54-31.csv',\n",
       "  '../arcatchreports/systagram1.4.0/systagram1.4.0-degree-of-conformance-2020-04-28-13-54-31.csv',\n",
       "  '../arcatchreports/systagram1.4.0/systagram1.4.0-compartment-description-2020-04-28-13-54-31.csv',\n",
       "  '../arcatchreports/systagram1.4.0/systagram1.4.0-metrics-suite-2020-04-28-13-54-31.csv',\n",
       "  '../arcatchreports/systagram1.4.0/systagram1.4.0-conformance-of-rules-2020-04-28-13-54-31.csv'],\n",
       " 'systagram1.4.1': ['../arcatchreports/systagram1.4.1/systagram1.4.1-basic-statistics-2020-04-28-13-54-34.csv',\n",
       "  '../arcatchreports/systagram1.4.1/systagram1.4.1-conformance-of-rules-2020-04-28-13-54-34.csv',\n",
       "  '../arcatchreports/systagram1.4.1/systagram1.4.1-degradation-matrix-2020-04-28-13-54-34.csv',\n",
       "  '../arcatchreports/systagram1.4.1/systagram1.4.1-unit-compartment-mapping-matrix-2020-04-28-13-54-34.csv',\n",
       "  '../arcatchreports/systagram1.4.1/systagram1.4.1-degree-of-conformance-2020-04-28-13-54-34.csv',\n",
       "  '../arcatchreports/systagram1.4.1/systagram1.4.1-rule-violation-2020-04-28-13-54-34.csv',\n",
       "  '../arcatchreports/systagram1.4.1/systagram1.4.1-compartment-description-2020-04-28-13-54-34.csv',\n",
       "  '../arcatchreports/systagram1.4.1/systagram1.4.1-violation-matrix-2020-04-28-13-54-34.csv',\n",
       "  '../arcatchreports/systagram1.4.1/systagram1.4.1-metric-suite-description-2020-04-28-13-54-34.csv',\n",
       "  '../arcatchreports/systagram1.4.1/systagram1.4.1-metrics-suite-2020-04-28-13-54-34.csv']}"
      ]
     },
     "execution_count": 5,
     "metadata": {},
     "output_type": "execute_result"
    }
   ],
   "source": [
    "my_dict_from_arcatchreports"
   ]
  },
  {
   "cell_type": "code",
   "execution_count": 6,
   "metadata": {},
   "outputs": [],
   "source": [
    "## Para cada diretorio ler os arquivos .csv removendo data-hora de cada arquivo\n",
    "my_df_list2 = []\n",
    "my_df_names_list2 = []\n",
    "cont = 0\n",
    "for each_dir in my_dirs_arcatchreports: \n",
    "    for each_file in my_dict_from_arcatchreports[each_dir]:\n",
    "        aux = \"pd.read_csv(\" + \"'\" + each_file + \"'\" + \", sep=';')\"\n",
    "        y = aux.replace(\"pd.read_csv('../arcatchreports/\" + my_dirs_arcatchreports[cont] + \"/\", '')\n",
    "        z = y.replace(\"', sep=';')\",'')\n",
    "        t = \"df_dataset_\" + z \n",
    "        t = t.replace(\".csv\", \"\")\n",
    "        w = t.replace(\"-\", \"_\").replace(\".\", \"_\")\n",
    "        text = w\n",
    "        head, sep, tail = text.partition('2020')\n",
    "        my_df_names_list2.append(head)\n",
    "        my_df_list2.append(head + \" = \" + aux)\n",
    "    cont = cont + 1"
   ]
  },
  {
   "cell_type": "code",
   "execution_count": 7,
   "metadata": {},
   "outputs": [
    {
     "data": {
      "text/plain": [
       "['df_dataset_systagram1_5_0_conformance_of_rules_',\n",
       " 'df_dataset_systagram1_5_0_violation_matrix_',\n",
       " 'df_dataset_systagram1_5_0_unit_compartment_mapping_matrix_',\n",
       " 'df_dataset_systagram1_5_0_degree_of_conformance_',\n",
       " 'df_dataset_systagram1_5_0_degradation_matrix_',\n",
       " 'df_dataset_systagram1_5_0_compartment_description_',\n",
       " 'df_dataset_systagram1_5_0_basic_statistics_',\n",
       " 'df_dataset_systagram1_5_0_metric_suite_description_',\n",
       " 'df_dataset_systagram1_5_0_rule_violation_',\n",
       " 'df_dataset_systagram1_5_0_metrics_suite_',\n",
       " 'df_dataset_systagram1_5_1_rule_violation_',\n",
       " 'df_dataset_systagram1_5_1_basic_statistics_',\n",
       " 'df_dataset_systagram1_5_1_metric_suite_description_',\n",
       " 'df_dataset_systagram1_5_1_violation_matrix_',\n",
       " 'df_dataset_systagram1_5_1_degree_of_conformance_',\n",
       " 'df_dataset_systagram1_5_1_unit_compartment_mapping_matrix_',\n",
       " 'df_dataset_systagram1_5_1_compartment_description_',\n",
       " 'df_dataset_systagram1_5_1_degradation_matrix_',\n",
       " 'df_dataset_systagram1_5_1_conformance_of_rules_',\n",
       " 'df_dataset_systagram1_5_1_metrics_suite_',\n",
       " 'df_dataset_systagram1_4_0_unit_compartment_mapping_matrix_',\n",
       " 'df_dataset_systagram1_4_0_metric_suite_description_',\n",
       " 'df_dataset_systagram1_4_0_degradation_matrix_',\n",
       " 'df_dataset_systagram1_4_0_violation_matrix_',\n",
       " 'df_dataset_systagram1_4_0_rule_violation_',\n",
       " 'df_dataset_systagram1_4_0_basic_statistics_',\n",
       " 'df_dataset_systagram1_4_0_degree_of_conformance_',\n",
       " 'df_dataset_systagram1_4_0_compartment_description_',\n",
       " 'df_dataset_systagram1_4_0_metrics_suite_',\n",
       " 'df_dataset_systagram1_4_0_conformance_of_rules_',\n",
       " 'df_dataset_systagram1_4_1_basic_statistics_',\n",
       " 'df_dataset_systagram1_4_1_conformance_of_rules_',\n",
       " 'df_dataset_systagram1_4_1_degradation_matrix_',\n",
       " 'df_dataset_systagram1_4_1_unit_compartment_mapping_matrix_',\n",
       " 'df_dataset_systagram1_4_1_degree_of_conformance_',\n",
       " 'df_dataset_systagram1_4_1_rule_violation_',\n",
       " 'df_dataset_systagram1_4_1_compartment_description_',\n",
       " 'df_dataset_systagram1_4_1_violation_matrix_',\n",
       " 'df_dataset_systagram1_4_1_metric_suite_description_',\n",
       " 'df_dataset_systagram1_4_1_metrics_suite_']"
      ]
     },
     "execution_count": 7,
     "metadata": {},
     "output_type": "execute_result"
    }
   ],
   "source": [
    "my_df_names_list2"
   ]
  },
  {
   "cell_type": "code",
   "execution_count": 8,
   "metadata": {},
   "outputs": [
    {
     "data": {
      "text/plain": [
       "[\"df_dataset_systagram1_5_0_conformance_of_rules_ = pd.read_csv('../arcatchreports/systagram1.5.0/systagram1.5.0-conformance-of-rules-2020-04-28-13-54-36.csv', sep=';')\",\n",
       " \"df_dataset_systagram1_5_0_violation_matrix_ = pd.read_csv('../arcatchreports/systagram1.5.0/systagram1.5.0-violation-matrix-2020-04-28-13-54-36.csv', sep=';')\",\n",
       " \"df_dataset_systagram1_5_0_unit_compartment_mapping_matrix_ = pd.read_csv('../arcatchreports/systagram1.5.0/systagram1.5.0-unit-compartment-mapping-matrix-2020-04-28-13-54-36.csv', sep=';')\",\n",
       " \"df_dataset_systagram1_5_0_degree_of_conformance_ = pd.read_csv('../arcatchreports/systagram1.5.0/systagram1.5.0-degree-of-conformance-2020-04-28-13-54-36.csv', sep=';')\",\n",
       " \"df_dataset_systagram1_5_0_degradation_matrix_ = pd.read_csv('../arcatchreports/systagram1.5.0/systagram1.5.0-degradation-matrix-2020-04-28-13-54-36.csv', sep=';')\",\n",
       " \"df_dataset_systagram1_5_0_compartment_description_ = pd.read_csv('../arcatchreports/systagram1.5.0/systagram1.5.0-compartment-description-2020-04-28-13-54-36.csv', sep=';')\",\n",
       " \"df_dataset_systagram1_5_0_basic_statistics_ = pd.read_csv('../arcatchreports/systagram1.5.0/systagram1.5.0-basic-statistics-2020-04-28-13-54-36.csv', sep=';')\",\n",
       " \"df_dataset_systagram1_5_0_metric_suite_description_ = pd.read_csv('../arcatchreports/systagram1.5.0/systagram1.5.0-metric-suite-description-2020-04-28-13-54-36.csv', sep=';')\",\n",
       " \"df_dataset_systagram1_5_0_rule_violation_ = pd.read_csv('../arcatchreports/systagram1.5.0/systagram1.5.0-rule-violation-2020-04-28-13-54-36.csv', sep=';')\",\n",
       " \"df_dataset_systagram1_5_0_metrics_suite_ = pd.read_csv('../arcatchreports/systagram1.5.0/systagram1.5.0-metrics-suite-2020-04-28-13-54-36.csv', sep=';')\",\n",
       " \"df_dataset_systagram1_5_1_rule_violation_ = pd.read_csv('../arcatchreports/systagram1.5.1/systagram1.5.1-rule-violation-2020-04-28-13-54-37.csv', sep=';')\",\n",
       " \"df_dataset_systagram1_5_1_basic_statistics_ = pd.read_csv('../arcatchreports/systagram1.5.1/systagram1.5.1-basic-statistics-2020-04-28-13-54-37.csv', sep=';')\",\n",
       " \"df_dataset_systagram1_5_1_metric_suite_description_ = pd.read_csv('../arcatchreports/systagram1.5.1/systagram1.5.1-metric-suite-description-2020-04-28-13-54-37.csv', sep=';')\",\n",
       " \"df_dataset_systagram1_5_1_violation_matrix_ = pd.read_csv('../arcatchreports/systagram1.5.1/systagram1.5.1-violation-matrix-2020-04-28-13-54-37.csv', sep=';')\",\n",
       " \"df_dataset_systagram1_5_1_degree_of_conformance_ = pd.read_csv('../arcatchreports/systagram1.5.1/systagram1.5.1-degree-of-conformance-2020-04-28-13-54-37.csv', sep=';')\",\n",
       " \"df_dataset_systagram1_5_1_unit_compartment_mapping_matrix_ = pd.read_csv('../arcatchreports/systagram1.5.1/systagram1.5.1-unit-compartment-mapping-matrix-2020-04-28-13-54-37.csv', sep=';')\",\n",
       " \"df_dataset_systagram1_5_1_compartment_description_ = pd.read_csv('../arcatchreports/systagram1.5.1/systagram1.5.1-compartment-description-2020-04-28-13-54-37.csv', sep=';')\",\n",
       " \"df_dataset_systagram1_5_1_degradation_matrix_ = pd.read_csv('../arcatchreports/systagram1.5.1/systagram1.5.1-degradation-matrix-2020-04-28-13-54-37.csv', sep=';')\",\n",
       " \"df_dataset_systagram1_5_1_conformance_of_rules_ = pd.read_csv('../arcatchreports/systagram1.5.1/systagram1.5.1-conformance-of-rules-2020-04-28-13-54-37.csv', sep=';')\",\n",
       " \"df_dataset_systagram1_5_1_metrics_suite_ = pd.read_csv('../arcatchreports/systagram1.5.1/systagram1.5.1-metrics-suite-2020-04-28-13-54-37.csv', sep=';')\",\n",
       " \"df_dataset_systagram1_4_0_unit_compartment_mapping_matrix_ = pd.read_csv('../arcatchreports/systagram1.4.0/systagram1.4.0-unit-compartment-mapping-matrix-2020-04-28-13-54-31.csv', sep=';')\",\n",
       " \"df_dataset_systagram1_4_0_metric_suite_description_ = pd.read_csv('../arcatchreports/systagram1.4.0/systagram1.4.0-metric-suite-description-2020-04-28-13-54-31.csv', sep=';')\",\n",
       " \"df_dataset_systagram1_4_0_degradation_matrix_ = pd.read_csv('../arcatchreports/systagram1.4.0/systagram1.4.0-degradation-matrix-2020-04-28-13-54-31.csv', sep=';')\",\n",
       " \"df_dataset_systagram1_4_0_violation_matrix_ = pd.read_csv('../arcatchreports/systagram1.4.0/systagram1.4.0-violation-matrix-2020-04-28-13-54-31.csv', sep=';')\",\n",
       " \"df_dataset_systagram1_4_0_rule_violation_ = pd.read_csv('../arcatchreports/systagram1.4.0/systagram1.4.0-rule-violation-2020-04-28-13-54-31.csv', sep=';')\",\n",
       " \"df_dataset_systagram1_4_0_basic_statistics_ = pd.read_csv('../arcatchreports/systagram1.4.0/systagram1.4.0-basic-statistics-2020-04-28-13-54-31.csv', sep=';')\",\n",
       " \"df_dataset_systagram1_4_0_degree_of_conformance_ = pd.read_csv('../arcatchreports/systagram1.4.0/systagram1.4.0-degree-of-conformance-2020-04-28-13-54-31.csv', sep=';')\",\n",
       " \"df_dataset_systagram1_4_0_compartment_description_ = pd.read_csv('../arcatchreports/systagram1.4.0/systagram1.4.0-compartment-description-2020-04-28-13-54-31.csv', sep=';')\",\n",
       " \"df_dataset_systagram1_4_0_metrics_suite_ = pd.read_csv('../arcatchreports/systagram1.4.0/systagram1.4.0-metrics-suite-2020-04-28-13-54-31.csv', sep=';')\",\n",
       " \"df_dataset_systagram1_4_0_conformance_of_rules_ = pd.read_csv('../arcatchreports/systagram1.4.0/systagram1.4.0-conformance-of-rules-2020-04-28-13-54-31.csv', sep=';')\",\n",
       " \"df_dataset_systagram1_4_1_basic_statistics_ = pd.read_csv('../arcatchreports/systagram1.4.1/systagram1.4.1-basic-statistics-2020-04-28-13-54-34.csv', sep=';')\",\n",
       " \"df_dataset_systagram1_4_1_conformance_of_rules_ = pd.read_csv('../arcatchreports/systagram1.4.1/systagram1.4.1-conformance-of-rules-2020-04-28-13-54-34.csv', sep=';')\",\n",
       " \"df_dataset_systagram1_4_1_degradation_matrix_ = pd.read_csv('../arcatchreports/systagram1.4.1/systagram1.4.1-degradation-matrix-2020-04-28-13-54-34.csv', sep=';')\",\n",
       " \"df_dataset_systagram1_4_1_unit_compartment_mapping_matrix_ = pd.read_csv('../arcatchreports/systagram1.4.1/systagram1.4.1-unit-compartment-mapping-matrix-2020-04-28-13-54-34.csv', sep=';')\",\n",
       " \"df_dataset_systagram1_4_1_degree_of_conformance_ = pd.read_csv('../arcatchreports/systagram1.4.1/systagram1.4.1-degree-of-conformance-2020-04-28-13-54-34.csv', sep=';')\",\n",
       " \"df_dataset_systagram1_4_1_rule_violation_ = pd.read_csv('../arcatchreports/systagram1.4.1/systagram1.4.1-rule-violation-2020-04-28-13-54-34.csv', sep=';')\",\n",
       " \"df_dataset_systagram1_4_1_compartment_description_ = pd.read_csv('../arcatchreports/systagram1.4.1/systagram1.4.1-compartment-description-2020-04-28-13-54-34.csv', sep=';')\",\n",
       " \"df_dataset_systagram1_4_1_violation_matrix_ = pd.read_csv('../arcatchreports/systagram1.4.1/systagram1.4.1-violation-matrix-2020-04-28-13-54-34.csv', sep=';')\",\n",
       " \"df_dataset_systagram1_4_1_metric_suite_description_ = pd.read_csv('../arcatchreports/systagram1.4.1/systagram1.4.1-metric-suite-description-2020-04-28-13-54-34.csv', sep=';')\",\n",
       " \"df_dataset_systagram1_4_1_metrics_suite_ = pd.read_csv('../arcatchreports/systagram1.4.1/systagram1.4.1-metrics-suite-2020-04-28-13-54-34.csv', sep=';')\"]"
      ]
     },
     "execution_count": 8,
     "metadata": {},
     "output_type": "execute_result"
    }
   ],
   "source": [
    "my_df_list2"
   ]
  },
  {
   "cell_type": "code",
   "execution_count": 9,
   "metadata": {},
   "outputs": [],
   "source": [
    "with open('my_file_dataframes2.txt', 'w') as f:\n",
    "    for item in my_df_list2:\n",
    "        f.write(\"%s\\n\" % item)"
   ]
  },
  {
   "cell_type": "code",
   "execution_count": 10,
   "metadata": {},
   "outputs": [],
   "source": [
    "with open('my_file_dataframes_names2.txt', 'w') as f2:\n",
    "    for item in my_df_names_list2:\n",
    "        f2.write(\"%s\\n\" % item)"
   ]
  },
  {
   "cell_type": "code",
   "execution_count": null,
   "metadata": {},
   "outputs": [],
   "source": []
  }
 ],
 "metadata": {
  "kernelspec": {
   "display_name": "Python 3",
   "language": "python",
   "name": "python3"
  },
  "language_info": {
   "codemirror_mode": {
    "name": "ipython",
    "version": 3
   },
   "file_extension": ".py",
   "mimetype": "text/x-python",
   "name": "python",
   "nbconvert_exporter": "python",
   "pygments_lexer": "ipython3",
   "version": "3.6.3"
  }
 },
 "nbformat": 4,
 "nbformat_minor": 2
}
